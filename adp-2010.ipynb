{
 "cells": [
  {
   "cell_type": "code",
   "execution_count": 56,
   "metadata": {
    "collapsed": false
   },
   "outputs": [],
   "source": [
    "#Importing in libraries\n",
    "\n",
    "import numpy as np\n",
    "import pandas as pd \n",
    "import matplotlib.pyplot as plt\n",
    "\n",
    "%matplotlib inline"
   ]
  },
  {
   "cell_type": "code",
   "execution_count": 3,
   "metadata": {
    "collapsed": true
   },
   "outputs": [],
   "source": [
    "#Importing dataset to base dataframe in pandas\n",
    "df = pd.read_csv('APD_Incident_Extract_2010.csv')"
   ]
  },
  {
   "cell_type": "code",
   "execution_count": 4,
   "metadata": {
    "collapsed": false
   },
   "outputs": [
    {
     "data": {
      "text/html": [
       "<div>\n",
       "<table border=\"1\" class=\"dataframe\">\n",
       "  <thead>\n",
       "    <tr style=\"text-align: right;\">\n",
       "      <th></th>\n",
       "      <th>Incident Report Number</th>\n",
       "      <th>Crime Type</th>\n",
       "      <th>Date</th>\n",
       "      <th>Time</th>\n",
       "      <th>LOCATION_TYPE</th>\n",
       "      <th>ADDRESS</th>\n",
       "      <th>LONGITUDE</th>\n",
       "      <th>LATITUDE</th>\n",
       "      <th>Location 1</th>\n",
       "    </tr>\n",
       "  </thead>\n",
       "  <tbody>\n",
       "    <tr>\n",
       "      <th>0</th>\n",
       "      <td>20105067300</td>\n",
       "      <td>CRASH/LEAVING THE SCENE</td>\n",
       "      <td>12/18/2010</td>\n",
       "      <td>1100</td>\n",
       "      <td>NaN</td>\n",
       "      <td>11200 BLOCK LAKELINE MALL DR</td>\n",
       "      <td>NaN</td>\n",
       "      <td>NaN</td>\n",
       "      <td>NaN</td>\n",
       "    </tr>\n",
       "    <tr>\n",
       "      <th>1</th>\n",
       "      <td>20105067330</td>\n",
       "      <td>CRIMINAL MISCHIEF</td>\n",
       "      <td>12/20/2010</td>\n",
       "      <td>1200</td>\n",
       "      <td>NaN</td>\n",
       "      <td>WEST LYNN ST / W 6TH ST</td>\n",
       "      <td>-97.762642</td>\n",
       "      <td>30.274826</td>\n",
       "      <td>NaN</td>\n",
       "    </tr>\n",
       "    <tr>\n",
       "      <th>2</th>\n",
       "      <td>20105067629</td>\n",
       "      <td>COUNTERFEITING</td>\n",
       "      <td>12/21/2010</td>\n",
       "      <td>1650</td>\n",
       "      <td>NaN</td>\n",
       "      <td>2700 BLOCK GONZALES ST</td>\n",
       "      <td>NaN</td>\n",
       "      <td>NaN</td>\n",
       "      <td>NaN</td>\n",
       "    </tr>\n",
       "    <tr>\n",
       "      <th>3</th>\n",
       "      <td>20101020316</td>\n",
       "      <td>CRIMINAL MISCHIEF</td>\n",
       "      <td>04/12/2010</td>\n",
       "      <td>559</td>\n",
       "      <td>NaN</td>\n",
       "      <td>6200 BLOCK MANOR RD</td>\n",
       "      <td>NaN</td>\n",
       "      <td>NaN</td>\n",
       "      <td>NaN</td>\n",
       "    </tr>\n",
       "    <tr>\n",
       "      <th>4</th>\n",
       "      <td>20105019108</td>\n",
       "      <td>BURGLARY OF VEHICLE</td>\n",
       "      <td>04/15/2010</td>\n",
       "      <td>1200</td>\n",
       "      <td>NaN</td>\n",
       "      <td>4600 BLOCK ELMONT DR</td>\n",
       "      <td>NaN</td>\n",
       "      <td>NaN</td>\n",
       "      <td>NaN</td>\n",
       "    </tr>\n",
       "  </tbody>\n",
       "</table>\n",
       "</div>"
      ],
      "text/plain": [
       "   Incident Report Number               Crime Type        Date  Time  \\\n",
       "0             20105067300  CRASH/LEAVING THE SCENE  12/18/2010  1100   \n",
       "1             20105067330        CRIMINAL MISCHIEF  12/20/2010  1200   \n",
       "2             20105067629           COUNTERFEITING  12/21/2010  1650   \n",
       "3             20101020316        CRIMINAL MISCHIEF  04/12/2010   559   \n",
       "4             20105019108      BURGLARY OF VEHICLE  04/15/2010  1200   \n",
       "\n",
       "   LOCATION_TYPE                       ADDRESS  LONGITUDE   LATITUDE  \\\n",
       "0            NaN  11200 BLOCK LAKELINE MALL DR        NaN        NaN   \n",
       "1            NaN       WEST LYNN ST / W 6TH ST -97.762642  30.274826   \n",
       "2            NaN        2700 BLOCK GONZALES ST        NaN        NaN   \n",
       "3            NaN           6200 BLOCK MANOR RD        NaN        NaN   \n",
       "4            NaN          4600 BLOCK ELMONT DR        NaN        NaN   \n",
       "\n",
       "   Location 1  \n",
       "0         NaN  \n",
       "1         NaN  \n",
       "2         NaN  \n",
       "3         NaN  \n",
       "4         NaN  "
      ]
     },
     "execution_count": 4,
     "metadata": {},
     "output_type": "execute_result"
    }
   ],
   "source": [
    "df.head(5)"
   ]
  },
  {
   "cell_type": "code",
   "execution_count": 6,
   "metadata": {
    "collapsed": false
   },
   "outputs": [],
   "source": [
    "#Already seeing NaNs in LOCATION_TYPE, LONGITUDE, LATITUDE, LOCATION 1, but first I'm interested in the type of crimes"
   ]
  },
  {
   "cell_type": "code",
   "execution_count": 9,
   "metadata": {
    "collapsed": false
   },
   "outputs": [],
   "source": [
    "df.columns=['incRepNum', 'crimeType', 'date','time', 'locationType', 'address', 'longitude', 'latitude', 'location1']"
   ]
  },
  {
   "cell_type": "code",
   "execution_count": 15,
   "metadata": {
    "collapsed": false
   },
   "outputs": [
    {
     "data": {
      "text/plain": [
       "array(['CRASH/LEAVING THE SCENE', 'CRIMINAL MISCHIEF', 'COUNTERFEITING',\n",
       "       'BURGLARY OF VEHICLE', 'THEFT', 'CUSTODY ARREST TRAFFIC WARR',\n",
       "       'ASSIST EMS', 'THEFT OF VEHICLE/OTHER', 'FAMILY DISTURBANCE',\n",
       "       'ASSAULT BY CONTACT FAM/DATING', 'LOST PROP',\n",
       "       'EMERGENCY PROTECTIVE ORDER', 'HARASSMENT', 'DEBIT CARD ABUSE',\n",
       "       'FORGERY AND PASSING', 'SUSPICIOUS PERSON',\n",
       "       'SEXUAL ASSAULT INFORMATION', 'FAILURE TO IDENTIFY',\n",
       "       'FAMILY DISTURBANCE/PARENTAL', 'CAREER CRIMINAL UNIT',\n",
       "       'VOCO AMPLIFIED MUSIC/VEHICLE', 'WARRANT ARREST NON TRAFFIC',\n",
       "       'REQUEST TO APPREHEND', 'VIOL STATE LAW - OTHER', 'DWI',\n",
       "       'VIOL CITY ORDINANCE - OTHER', 'DEL CONTROLLED SUB/NARCOTIC',\n",
       "       'THEFT OF BICYCLE', 'AUTO THEFT', 'BURGLARY NON RESIDENCE',\n",
       "       'GRAFFITI', 'DISTURBANCE - OTHER', 'SUSPICIOUS VEH',\n",
       "       'CRIMINAL TRESPASS', 'POSS MARIJUANA',\n",
       "       'ASSAULT W/INJURY-FAM/DATE VIOL', 'DWI 2ND',\n",
       "       'CRIMINAL TRESPASS/TRANSIENT', 'REQUEST TO LOCATE',\n",
       "       'PUBLIC INTOXICATION', 'FOUND CONTROLLED SUBSTANCE',\n",
       "       'THEFT BY SHOPLIFTING', 'AGG ASSAULT', 'CRED CARD ABUSE - OTHER',\n",
       "       'FELONY ENHANCEMENT/ASSLT W/INJ', 'ASSAULT WITH INJURY',\n",
       "       'LIQUOR LAW VIOLATION/OTHER', 'VIOL CITY ORDINANCE - DOG',\n",
       "       'URINATING IN PUBLIC PLACE', 'POSS CONTROLLED SUB/NARCOTIC',\n",
       "       'ABANDONED VEH', 'ASSIST COMPLAINANT',\n",
       "       'AGG ASSAULT FAM/DATE VIOLENCE', 'SUICIDE',\n",
       "       'VIOL CITY ORDINANCE -FIREWORK', 'FOUND PROPERTY',\n",
       "       'BURGLARY OF RESIDENCE', 'TRAFFIC HAZARD/DEBRIS',\n",
       "       'ASSAULT BY CONTACT', 'VOCO - ALCOHOL  CONSUMPTION',\n",
       "       'HARASSMENT ONLINE', 'VOCO SOLICITATION PROHIBIT',\n",
       "       'PEDESTRIAN ON ROADWAY', 'TEMP EX PARTE  ORDER', 'FRAUD - OTHER',\n",
       "       'CRUELTY TO ANIMALS', 'BURGLARY INFORMATION',\n",
       "       'UNAUTHORIZED USE OF VEH', 'FORGERY BY MAKING', 'ANIMAL BITE',\n",
       "       'IMPOUNDED VEH', 'PARKING VIOLATION', 'RACING ON HIGHWAY',\n",
       "       'IDENTITY THEFT', 'DOC DISPLAY FIREARM-PUB PLACE',\n",
       "       'AGG ASSAULT WITH MOTOR VEH', 'HARASSMENT OF A PUBLIC SERVANT',\n",
       "       'VIOL OF CAMPING ORDINANCE', 'THEFT INFORMATION',\n",
       "       'POSS OF DRUG PARAPHERNALIA', 'CRIMINAL TRESPASS NOTICE',\n",
       "       'ROBBERY BY ASSAULT', 'STALKING', 'STALKING INFORMATION',\n",
       "       'POSS OF PROHIBITED WEAPON', 'VIOL OF PROTECTIVE ORDER',\n",
       "       'LITTERING', 'DAMAGE CITY PROP', 'COUNTERFEITING INFORMATION',\n",
       "       'VIOL CITY ORDINANCE - WRECKER', 'APPLIC TO REVOKE PROBATION',\n",
       "       'SEX OFFENDER COMPLIANCE CHECK', 'CRIMINAL MISCHIEF INFORMATION',\n",
       "       'ASSAULT INFORMATION', 'CRASH/NO INJURY', 'SALVAGE INSPECTION',\n",
       "       'DATING DISTURBANCE', 'RAPE', 'TERRORISTIC THREAT',\n",
       "       'ACCIDENTAL INJURY', 'FIREARMS', 'THEFT OF SERVICE',\n",
       "       'THEFT OF LICENSE PLATE', 'DOC UNREASONABLE NOISE',\n",
       "       'CRIMINAL TRESPASS/HOTEL', 'FOUND LICENSE PLATE',\n",
       "       'ASSAULT INFO (FAMILY VIOLENCE', 'DECEASED PERSON', 'MISSING ADULT',\n",
       "       'VIOL OF EMERG PROTECTIVE ORDER', 'INJURY DISABLED INDIVIDUAL',\n",
       "       'ASSAULT BY THREAT', 'VIOL OF COURT ORDER-NON EPO-PO',\n",
       "       'INJ TO DISABLED  FAM/DATE VIOL', 'FEDERAL VIOL/OTHER',\n",
       "       'ABAND VEH  (STORAGE FACILITY)', 'DEADLY CONDUCT',\n",
       "       'CRASH/CITY VEHICLE', 'JUNKED/NUISANCE VEHICLE',\n",
       "       'CRED CARD ABUSE BY FORGERY', 'CRASH/PRIVATE PROPERTY',\n",
       "       'THEFT BY CHECK', 'DRIVING WHILE LICENSE INVALID',\n",
       "       'THEFT OF AUTO PARTS', 'THEFT FROM AUTO',\n",
       "       'AGG ASLT STRANGLE/SUFFOCATE', 'FORGERY BY ALTERATION',\n",
       "       'TRAFFIC VIOL/OTHER', 'THEFT OF METAL',\n",
       "       'POSS OF ALCOHOL - AGE 17 TO 20', 'FORGERY- CERTIFICATE OF TITLE',\n",
       "       'AGG ROBBERY BY ASSAULT', 'VOCO SIT/LIE/RIDE DTA WALKWAY',\n",
       "       'ROBBERY INFORMATION', 'PROWLER', 'AGG ROBBERY/DEADLY WEAPON',\n",
       "       'SHOTS FIRED', 'PAROLE VIOL', 'EVADING VEHICLE',\n",
       "       'RESISTING ARREST OR SEARCH', 'POSS OF FIREARM BY FELON',\n",
       "       'DOC FIGHTING', 'AUTO SALVAGE DEALERS', 'MISAPPLY FIDUCIARY PROP',\n",
       "       'POSS CONTROLLED SUB/SYN NARC', 'FICTITIOUS LICENSE PLATE',\n",
       "       'AUTO THEFT INFORMATION', 'ACCIDENTAL DRUG OVERDOSE',\n",
       "       'HINDER SECURED CREDITORS', 'VEHICLE FIRE', 'PROTECTIVE ORDER',\n",
       "       'FORCED SODOMY', 'OUT OF CITY SEXUAL ASSAULT', 'PROSTITUTION',\n",
       "       'ASSIST OTHER POLICE AGENCY', 'HOMICIDE INFORMATION', 'ROAD RAGE',\n",
       "       'DOC EXPOSURE', 'CRASH/FAIL STOP AND RENDER AID', 'GAMBLING',\n",
       "       'BURGLARY OF COIN-OP MACHINE', 'FALSE BURGLAR ALARM',\n",
       "       'DEATH DUE TO NATURAL CAUSES', 'DUMPING REFUSE NEAR HIGHWAY',\n",
       "       'RECKLESS DAMAGE', 'TERRORISTIC THREAT-FAM/DAT VIO',\n",
       "       'SEXUAL ASSAULT', 'DRIVING WHILE INTOX / FELONY',\n",
       "       'ARSON INFORMATION', 'ASSAULT BY THREAT FAM/DATING',\n",
       "       'HIGH SPEED ROADWAY HAZ/DEBRIS', 'UNL CARRY HANDGUN-LICENSE HOLD',\n",
       "       'THEFT/TILL TAPPING', 'ABANDONED PROP', 'CRASH/AUTO VS PEDESTRIAN',\n",
       "       'BURG OF RES - FAM/DATING ASLT', 'RECKLESS CONDUCT',\n",
       "       'INDECENT EXPOSURE', 'DUI - AGE 17 TO 20',\n",
       "       'REG. SEX OFFENDER INFORMATION', 'INJ TO ELDERLY   FAM/DATE VIOL',\n",
       "       'DOC OFFENSIVE GESTURE', 'THEFT FROM PERSON',\n",
       "       'REGISTERED SEX OFFENDER', 'DANGEROUS ANIMAL', 'EVADING / FOOT',\n",
       "       'VIOL OF PARK CURFEW', 'DELIVER MESSAGE', 'POSS DANG DRUG',\n",
       "       'ACCIDENTAL DEATH', 'BURGLARY OF VEH INFORMATION',\n",
       "       'IMPERSONATING PUBLIC SERVANT', 'FALSE ALARM OR REPORT',\n",
       "       'STRUCTURE FIRE', 'GAMBLING PROMOTION', 'UNLAWFUL CARRYING WEAPON',\n",
       "       'PICK UP ITEM/EVIDENCE', 'SID', 'FORGERY - OTHER',\n",
       "       'FICTITIOUS DRIVERS LICENSE/ID', 'APPLICATION FOR PERMIT OR LIC',\n",
       "       'WEAPON VIOL - OTHER', 'POSS CONTROLLED SUB/OTHER',\n",
       "       'THEFT BY EMBEZZLEMENT', 'NON HAZ TRAFFIC CITATION',\n",
       "       'FIELD OBSERVATION', 'NUISANCE ABATEMENT', 'RECKLESS DRIVING',\n",
       "       'ROBBERY BY THREAT', 'AIRPLANE EMERGENCY', 'PUBLIC LEWDNESS',\n",
       "       'ARSON', 'NO DRIVERS LICENSE', 'FORGERY OF IDENTIFICATION',\n",
       "       'OPEN DOOR/WINDOW', 'INTERFER PUBLIC DUTIES', 'UNLAWFUL RESTRAINT',\n",
       "       'VIOL CITY ORDINANCE -  GAME RM', 'INJURED ANIMAL-FIREARM USED',\n",
       "       'FALSE ROBBERY ALARM', 'FALSE STATEMENT -OBTAIN CREDIT',\n",
       "       'ABANDONED VEH/GARAGEKEEPER', 'DOC DISCHARGE GUN - PUB PLACE',\n",
       "       'IMPOUNDED ANIMAL', 'OUT OF CITY AUTO THEFT', 'AGG RAPE',\n",
       "       'ASSAULT ON PUBLIC SERVANT', 'TOBACCO VIOL - AGE 17',\n",
       "       'AIRPORT - FEDERAL VIOL', 'FALSE REPORT TO PEACE OFFICER',\n",
       "       'LOST LICENSE PLATE', 'DOC WINDOW PEEPING - PUB AREA',\n",
       "       'OUT OF CITY AGG ASSAULT', 'FOUND FIREARMS', 'CYBER CRIMES',\n",
       "       'DANGEROUS ANIMAL-FIREARM USED', 'AGG ASLT W/MOTOR VEH FAM/DAT V',\n",
       "       'AIRPORT PLACES WEAPON PROHIBIT', 'DISTRICT REPRESENTATIVE',\n",
       "       'INJURY TO ELDERLY PERSON', 'CRASH/AUTO VS BICYCLE',\n",
       "       'ILLEGAL LABELLING OF RECORDING', 'OBSTRUCTION HIGHWAY/PASSAGEWA',\n",
       "       'IMMIGRATION/NAT. ACT', 'AIRPORT INFORMATION',\n",
       "       'BREACH OF COMPUTER SECURITY', 'KIDNAPPING',\n",
       "       'THEFT OF HEAVY EQUIPMENT', 'TAMPERING WITH EVIDENCE',\n",
       "       'THEFT OF TELECOMMUNICATION SRV', 'VIOL GLASS CONTAINER',\n",
       "       'EXPLOSIVE ORDNANCE DISPOSAL', 'PIGEON DROP',\n",
       "       'AGG ASLT ENHANC STRANGL/SUFFOC', 'LEVEL 2 RESPONSE TO RESISTANCE',\n",
       "       'EVADING ARREST', 'VIOL OCCUPATIONAL DRIV LICENSE',\n",
       "       'FICTITIOUS INSPECTION STICKER', 'PURSE SNATCHING',\n",
       "       'DEL CONTROLLED SUB/OTHER', 'MULTIPLE TRAFFIC VIOL',\n",
       "       'THEFT- APPROPRIATE STOLEN PROP', 'DOC WINDOW PEEPING-RESIDENCE',\n",
       "       'CRASH/EMS', 'OBTAIN CONTROLLED SUB BY FRAUD', 'BURGLAR ALARM',\n",
       "       'CRED CARD ABUSE - EXPIR-CANCEL', 'ESCAPE FROM CUSTODY',\n",
       "       'CRASH/SERIOUS BODILY INJURY', 'PROHIBITED SEXUAL CONDUCT',\n",
       "       'DANG DRUG VIOL - OTHER', 'OBTAIN DANG DRUG BY FRAUD',\n",
       "       'UNLAWFUL RESTRAINT FAM/DAT VIO', 'DEL OF ALCOHOL TO MINOR',\n",
       "       'DRIVERS LICENSE VIOL/OTHER', 'DEL MARIJUANA', 'METRO TAC REG 2',\n",
       "       'DESERTION', 'ILLUMIN AIRCRAFT INTENSE LIGHT', 'METRO TAC REG 3',\n",
       "       'VIOL CITY ORDINANCE - CURFEW', 'OUT OF CITY OFFENSE',\n",
       "       'DOC ABUSIVE LANGUAGE', 'OTHER FIRE', 'PARKING CITATION',\n",
       "       'BOMB THREAT', 'AIRPORT - SUSPICIOUS PKG/ITEM', 'CRASH/FATALITY',\n",
       "       'BAIL JUMPING/FAIL TO APPEAR', 'CRASH/MANSLAUGHTER',\n",
       "       'INTER EMERG PHONECALL FAM/DATE', 'AGG SODOMY',\n",
       "       'BLOCKED DRIVE/ROADWAY', 'DEADLY CONDUCT FAM/DATE VIOL',\n",
       "       'AGG ASSAULT ON PUBLIC SERVANT', 'ASSIST CITY DEPT/OTHER',\n",
       "       'OUT OF CITY MISSING PERSON', 'CRASH/INTOXICATION ASSAULT',\n",
       "       'CIVIL DISTURBANCE/DEMO', 'ISSUANCE OF BAD CHECK',\n",
       "       'ACCIDENTAL SHOOTING INJURY', 'FAILURE TO REG AS SEX OFFENDER',\n",
       "       'THEFT FROM BUILDING', 'ASSIST FIRE DEPT', 'AGG KIDNAPPING',\n",
       "       'LEVEL 3 RESPONSE TO RESISTANCE', 'DWI - DRUG RECOGNITION EXPERT',\n",
       "       'INTERFERING W/EMERG PHONE CALL', 'IMPROPER CONTACT-SEX ASLT VICT',\n",
       "       'OUT OF CITY MURDER', 'INHALANT ABUSE',\n",
       "       'ACCIDENTAL SHOOTING NON-INJURY', 'SUSPICIOUS NOISE',\n",
       "       'DOC ABUSE OR THREAT', 'CONTROLLED SUB VIOL - OTHER',\n",
       "       'ANIMAL BITE - FIREARM USED', 'EVADING / VEHICLE PURSUIT',\n",
       "       'VEH MOVED NOT IMPOUNDED', 'OUT OF CITY BURGLARY',\n",
       "       'CRIMINAL MISCHIEF BY ARSON', 'THEFT BY EXTORTION',\n",
       "       'FRAUD DESTRUCTION OF A WRITING', 'MANF CONTROLLED SUB - OTHER',\n",
       "       'FRAUD FILING FINANCE STATEMENT', 'ROBBERY ALARM',\n",
       "       'VIOL CITY ORDINANCE - TITLE 10', 'CRIME ALERT/THEFT',\n",
       "       'OUT OF CITY ROBBERY', 'SMUGGLING ILLEGAL ALIEN',\n",
       "       'UNLAWFUL INTERCEPTION', 'TAMPERING WITH GOV RECORD',\n",
       "       'HIGH TECH CRIME', 'ABANDONED BICYCLES/PARTS', 'TRANSPORT PRISONER',\n",
       "       'DEL CONTROLLED SUB/SYN NARC', nan, 'OUT OF CITY THEFT',\n",
       "       'UCW LICENSE PREMISE', 'UNREGISTERED MOTOR VEH', 'PROBATION VIOL',\n",
       "       'OFFICER INVOLVED INJURY', 'HAZARDOUS TRAFFIC VIOL',\n",
       "       'VIOL TEMP EX PARTE  ORDER', 'HINDERING APPREHENSION',\n",
       "       'ASSIST MOTORIST/PUBLIC', 'ACCIDENTAL DROWNING DEATH',\n",
       "       'THEFT BY FALSE PRETEXT/BUNCO', 'CONT VIOL AGAINST FAMILY',\n",
       "       'INTERFER W/PO SERVICE ANIMALS', 'HAZARDOUS TRAFFIC CITATION',\n",
       "       'VIOL VEH REGISTRATION - OTHER', 'INJURED ANIMAL',\n",
       "       'SPEC ASSIGN/OTHER', 'VIOL WATER SAFETY ACT', 'BOAT CRASH/ACCIDENT',\n",
       "       'TAKE WEAPON FRM POLICE OFFICER', 'VIOL CITY ORDINANCE - SOUND',\n",
       "       'SURVEILLANCE ASSIGN', 'DOC DISCHARGE GUN - PUB ROAD',\n",
       "       'VIOL OF BOND CONDITIONS', 'PROMOTION OF PROSTITUTION',\n",
       "       'FAIL DISPLAY HANDGUN LICENSE', 'ATTACK ON ASSISTANCE ANIMAL',\n",
       "       'TELECOMMUNICATION CRIMES/OTHER', 'OBSCENITY',\n",
       "       'CRIMINAL NONSUPPORT', 'TAMPERING WITH CONSUMER PROD',\n",
       "       'BANK KITING', 'FOUND ADULT', 'COMMUNITY POLICE',\n",
       "       'AIRPORT - FOUND MARIJUANA', 'POCKET PICKING',\n",
       "       'NON HAZARDOUS TRAFFIC VIOL', 'METRO TAC REG 1',\n",
       "       'COMPELLING PROSTITUTION', 'ACCIDENTAL SHOOTING DEATH',\n",
       "       'DISRUPTIVE ACTS AT SCHOOLS', 'POSSESSION OF FORGED WRITING',\n",
       "       'ENGAGING IN ORGANIZED CRIME', 'LOOSE LIVESTOCK',\n",
       "       'THEFT OF HEAVY EQUIPMENT INFO', 'IN-SERVICE TRAINING/APD',\n",
       "       'AGG SEXUAL ASSAULT', 'MURDER', 'NO DRIVERS LICENSE 3RD OFFENSE',\n",
       "       'DISPOSAL OF SOLID WASTE', 'OFFICER INVOLVED INCIDENT',\n",
       "       'ALTERED DRIVERS LICENSE', 'SECURING EXEC-DOC BY DECEPTION',\n",
       "       'POSS CRIMINAL INSTRUMENT', 'DISRUPTING MEETING/PROCESSION',\n",
       "       'TAMPERING WITH ID NUMBER', 'AIRPORT - BOMB THREAT',\n",
       "       'VIOL CIVIL RIGHTS PRISONER', 'DOC WINDOW PEEPING - HOTEL',\n",
       "       'MANSLAUGHTER', 'DELIVERY OF PRESCRIPTION FORM', 'DEL OF DANG DRUG',\n",
       "       'VIOL CITY ORDINANCE - AIRPORT', 'HIGH SPEED ROADWAY STALL',\n",
       "       'VIOL STAY AWAY ORDER', 'MANF CONTROLLED SUB- SYN NARC', 'HAZING',\n",
       "       'POSS OF GAMBLING PARAPHERNALIA', 'VIOL CITY ORDINANCE - SMOKING',\n",
       "       'BRIBERY', 'AIRPORT - SUSPICIOUS PERSON',\n",
       "       'OPERATING A VESSEL/INTOXICATED', 'AWOL', 'AGG FORCED SODOMY',\n",
       "       'DEST OF IMPOUNDED PROP-EVIDEN', 'FICTITIOUS INSURANCE DOCUMENT',\n",
       "       'MONEY LAUNDERING', 'SOLICITATION - BEGGING'], dtype=object)"
      ]
     },
     "execution_count": 15,
     "metadata": {},
     "output_type": "execute_result"
    }
   ],
   "source": [
    "df.crimeType.unique()"
   ]
  },
  {
   "cell_type": "code",
   "execution_count": 14,
   "metadata": {
    "collapsed": false
   },
   "outputs": [
    {
     "data": {
      "text/plain": [
       "414"
      ]
     },
     "execution_count": 14,
     "metadata": {},
     "output_type": "execute_result"
    }
   ],
   "source": [
    "len(df.crimeType.unique())"
   ]
  },
  {
   "cell_type": "code",
   "execution_count": 24,
   "metadata": {
    "collapsed": false
   },
   "outputs": [],
   "source": [
    "#Separating out crimes distinctly involving technology.\n",
    "\n",
    "techCrimes = ['HIGH TECH CRIME', 'CYBER CRIMES']\n",
    "dfTech = df[df.crimeType.isin(techCrimes)] "
   ]
  },
  {
   "cell_type": "code",
   "execution_count": 40,
   "metadata": {
    "collapsed": false
   },
   "outputs": [
    {
     "name": "stdout",
     "output_type": "stream",
     "text": [
      "<class 'pandas.core.frame.DataFrame'>\n",
      "Int64Index: 9 entries, 5299 to 147464\n",
      "Data columns (total 9 columns):\n",
      "incRepNum       9 non-null int64\n",
      "crimeType       9 non-null object\n",
      "date            9 non-null object\n",
      "time            9 non-null int64\n",
      "locationType    0 non-null float64\n",
      "address         9 non-null object\n",
      "longitude       0 non-null float64\n",
      "latitude        0 non-null float64\n",
      "location1       0 non-null float64\n",
      "dtypes: float64(4), int64(2), object(3)\n",
      "memory usage: 720.0+ bytes\n"
     ]
    }
   ],
   "source": [
    "dfTech.info()"
   ]
  },
  {
   "cell_type": "code",
   "execution_count": 41,
   "metadata": {
    "collapsed": false
   },
   "outputs": [
    {
     "data": {
      "text/html": [
       "<div>\n",
       "<table border=\"1\" class=\"dataframe\">\n",
       "  <thead>\n",
       "    <tr style=\"text-align: right;\">\n",
       "      <th></th>\n",
       "      <th>incRepNum</th>\n",
       "      <th>crimeType</th>\n",
       "      <th>date</th>\n",
       "      <th>time</th>\n",
       "      <th>locationType</th>\n",
       "      <th>address</th>\n",
       "      <th>longitude</th>\n",
       "      <th>latitude</th>\n",
       "      <th>location1</th>\n",
       "    </tr>\n",
       "  </thead>\n",
       "  <tbody>\n",
       "    <tr>\n",
       "      <th>5299</th>\n",
       "      <td>20105013908</td>\n",
       "      <td>CYBER CRIMES</td>\n",
       "      <td>03/19/2010</td>\n",
       "      <td>1730</td>\n",
       "      <td>NaN</td>\n",
       "      <td>10700 BLOCK HENDON ST</td>\n",
       "      <td>NaN</td>\n",
       "      <td>NaN</td>\n",
       "      <td>NaN</td>\n",
       "    </tr>\n",
       "    <tr>\n",
       "      <th>11313</th>\n",
       "      <td>20105023665</td>\n",
       "      <td>CYBER CRIMES</td>\n",
       "      <td>05/08/2010</td>\n",
       "      <td>2039</td>\n",
       "      <td>NaN</td>\n",
       "      <td>1400 BLOCK BRAES RIDGE DR</td>\n",
       "      <td>NaN</td>\n",
       "      <td>NaN</td>\n",
       "      <td>NaN</td>\n",
       "    </tr>\n",
       "    <tr>\n",
       "      <th>26174</th>\n",
       "      <td>20105005184</td>\n",
       "      <td>HIGH TECH CRIME</td>\n",
       "      <td>01/31/2010</td>\n",
       "      <td>1149</td>\n",
       "      <td>NaN</td>\n",
       "      <td>5000 BLOCK OLD MANOR RD</td>\n",
       "      <td>NaN</td>\n",
       "      <td>NaN</td>\n",
       "      <td>NaN</td>\n",
       "    </tr>\n",
       "    <tr>\n",
       "      <th>49869</th>\n",
       "      <td>20105015322</td>\n",
       "      <td>HIGH TECH CRIME</td>\n",
       "      <td>03/29/2010</td>\n",
       "      <td>105</td>\n",
       "      <td>NaN</td>\n",
       "      <td>7700 BLOCK RIALTO BLVD</td>\n",
       "      <td>NaN</td>\n",
       "      <td>NaN</td>\n",
       "      <td>NaN</td>\n",
       "    </tr>\n",
       "    <tr>\n",
       "      <th>58225</th>\n",
       "      <td>20105014613</td>\n",
       "      <td>HIGH TECH CRIME</td>\n",
       "      <td>03/24/2010</td>\n",
       "      <td>1945</td>\n",
       "      <td>NaN</td>\n",
       "      <td>3000 BLOCK BELGRAVE FALLS LN</td>\n",
       "      <td>NaN</td>\n",
       "      <td>NaN</td>\n",
       "      <td>NaN</td>\n",
       "    </tr>\n",
       "    <tr>\n",
       "      <th>69931</th>\n",
       "      <td>20105013934</td>\n",
       "      <td>CYBER CRIMES</td>\n",
       "      <td>03/22/2010</td>\n",
       "      <td>924</td>\n",
       "      <td>NaN</td>\n",
       "      <td>900 BLOCK W 30TH ST</td>\n",
       "      <td>NaN</td>\n",
       "      <td>NaN</td>\n",
       "      <td>NaN</td>\n",
       "    </tr>\n",
       "    <tr>\n",
       "      <th>72340</th>\n",
       "      <td>20102011522</td>\n",
       "      <td>HIGH TECH CRIME</td>\n",
       "      <td>07/20/2010</td>\n",
       "      <td>1611</td>\n",
       "      <td>NaN</td>\n",
       "      <td>500 BLOCK W WILLIAM CANNON DR</td>\n",
       "      <td>NaN</td>\n",
       "      <td>NaN</td>\n",
       "      <td>NaN</td>\n",
       "    </tr>\n",
       "    <tr>\n",
       "      <th>126014</th>\n",
       "      <td>20105032185</td>\n",
       "      <td>CYBER CRIMES</td>\n",
       "      <td>06/12/2010</td>\n",
       "      <td>2222</td>\n",
       "      <td>NaN</td>\n",
       "      <td>11900 BLOCK STONEHOLLOW DR</td>\n",
       "      <td>NaN</td>\n",
       "      <td>NaN</td>\n",
       "      <td>NaN</td>\n",
       "    </tr>\n",
       "    <tr>\n",
       "      <th>147464</th>\n",
       "      <td>20105015088</td>\n",
       "      <td>CYBER CRIMES</td>\n",
       "      <td>03/24/2010</td>\n",
       "      <td>1900</td>\n",
       "      <td>NaN</td>\n",
       "      <td>11700 BLOCK METRIC BLVD</td>\n",
       "      <td>NaN</td>\n",
       "      <td>NaN</td>\n",
       "      <td>NaN</td>\n",
       "    </tr>\n",
       "  </tbody>\n",
       "</table>\n",
       "</div>"
      ],
      "text/plain": [
       "          incRepNum        crimeType        date  time  locationType  \\\n",
       "5299    20105013908     CYBER CRIMES  03/19/2010  1730           NaN   \n",
       "11313   20105023665     CYBER CRIMES  05/08/2010  2039           NaN   \n",
       "26174   20105005184  HIGH TECH CRIME  01/31/2010  1149           NaN   \n",
       "49869   20105015322  HIGH TECH CRIME  03/29/2010   105           NaN   \n",
       "58225   20105014613  HIGH TECH CRIME  03/24/2010  1945           NaN   \n",
       "69931   20105013934     CYBER CRIMES  03/22/2010   924           NaN   \n",
       "72340   20102011522  HIGH TECH CRIME  07/20/2010  1611           NaN   \n",
       "126014  20105032185     CYBER CRIMES  06/12/2010  2222           NaN   \n",
       "147464  20105015088     CYBER CRIMES  03/24/2010  1900           NaN   \n",
       "\n",
       "                              address  longitude  latitude  location1  \n",
       "5299            10700 BLOCK HENDON ST        NaN       NaN        NaN  \n",
       "11313       1400 BLOCK BRAES RIDGE DR        NaN       NaN        NaN  \n",
       "26174         5000 BLOCK OLD MANOR RD        NaN       NaN        NaN  \n",
       "49869          7700 BLOCK RIALTO BLVD        NaN       NaN        NaN  \n",
       "58225    3000 BLOCK BELGRAVE FALLS LN        NaN       NaN        NaN  \n",
       "69931             900 BLOCK W 30TH ST        NaN       NaN        NaN  \n",
       "72340   500 BLOCK W WILLIAM CANNON DR        NaN       NaN        NaN  \n",
       "126014     11900 BLOCK STONEHOLLOW DR        NaN       NaN        NaN  \n",
       "147464        11700 BLOCK METRIC BLVD        NaN       NaN        NaN  "
      ]
     },
     "execution_count": 41,
     "metadata": {},
     "output_type": "execute_result"
    }
   ],
   "source": [
    "#A rather low number of reports to say the least.\n",
    "dfTech"
   ]
  },
  {
   "cell_type": "code",
   "execution_count": 44,
   "metadata": {
    "collapsed": false
   },
   "outputs": [],
   "source": [
    "#Comparatively, what are the most highly reported crimes? \n",
    "\n",
    "#First get NaNs out of the way.\n",
    "df = df.dropna(subset=['crimeType'])"
   ]
  },
  {
   "cell_type": "code",
   "execution_count": 46,
   "metadata": {
    "collapsed": false
   },
   "outputs": [
    {
     "data": {
      "text/plain": [
       "413"
      ]
     },
     "execution_count": 46,
     "metadata": {},
     "output_type": "execute_result"
    }
   ],
   "source": [
    "#Confirming NaN are dropped.\n",
    "len(df.crimeType.unique())\n"
   ]
  },
  {
   "cell_type": "code",
   "execution_count": 50,
   "metadata": {
    "collapsed": false
   },
   "outputs": [],
   "source": [
    "val_counts = df.crimeType.value_counts()"
   ]
  },
  {
   "cell_type": "code",
   "execution_count": 70,
   "metadata": {
    "collapsed": false
   },
   "outputs": [
    {
     "data": {
      "text/plain": [
       "<matplotlib.axes._subplots.AxesSubplot at 0x124217710>"
      ]
     },
     "execution_count": 70,
     "metadata": {},
     "output_type": "execute_result"
    },
    {
     "data": {
      "image/png": "[encoded data removed]",
      "text/plain": [
       "<matplotlib.figure.Figure at 0x12421d358>"
      ]
     },
     "metadata": {},
     "output_type": "display_data"
    }
   ],
   "source": [
    "val_counts.hist(bins=30)"
   ]
  },
  {
   "cell_type": "code",
   "execution_count": 80,
   "metadata": {
    "collapsed": false
   },
   "outputs": [],
   "source": [
    "#Looks like a vast drop off below around 1k, time to grab occurrences equal to and greater than 1k in value count. \n",
    "oneKPlusVals = df.crimeType.value_counts()[df.crimeType.value_counts()>999] \n"
   ]
  },
  {
   "cell_type": "code",
   "execution_count": 81,
   "metadata": {
    "collapsed": false
   },
   "outputs": [
    {
     "data": {
      "text/plain": [
       "BURGLARY OF VEHICLE               14437\n",
       "THEFT                             14192\n",
       "FAMILY DISTURBANCE                 8188\n",
       "CRASH/LEAVING THE SCENE            8059\n",
       "CRIMINAL MISCHIEF                  7390\n",
       "BURGLARY OF RESIDENCE              6305\n",
       "PUBLIC INTOXICATION                5460\n",
       "HARASSMENT                         5257\n",
       "DWI                                4660\n",
       "CUSTODY ARREST TRAFFIC WARR        4524\n",
       "ASSAULT W/INJURY-FAM/DATE VIOL     4185\n",
       "LOST PROP                          3679\n",
       "WARRANT ARREST NON TRAFFIC         3394\n",
       "DISTURBANCE - OTHER                3349\n",
       "CRIMINAL TRESPASS                  3306\n",
       "REQUEST TO APPREHEND               3092\n",
       "POSS MARIJUANA                     2963\n",
       "ASSAULT WITH INJURY                2434\n",
       "AUTO THEFT                         2322\n",
       "BURGLARY NON RESIDENCE             2114\n",
       "DRIVING WHILE LICENSE INVALID      1932\n",
       "EMERGENCY PROTECTIVE ORDER         1911\n",
       "POSS OF DRUG PARAPHERNALIA         1530\n",
       "POSS CONTROLLED SUB/NARCOTIC       1502\n",
       "THEFT BY SHOPLIFTING               1494\n",
       "ASSAULT BY CONTACT                 1441\n",
       "SUSPICIOUS PERSON                  1426\n",
       "FOUND PROPERTY                     1409\n",
       "CRIMINAL TRESPASS/TRANSIENT        1350\n",
       "ABANDONED VEH                      1307\n",
       "IDENTITY THEFT                     1275\n",
       "VIOL CITY ORDINANCE - OTHER        1231\n",
       "THEFT OF BICYCLE                   1162\n",
       "DEBIT CARD ABUSE                   1131\n",
       "TERRORISTIC THREAT                 1047\n",
       "Name: crimeType, dtype: int64"
      ]
     },
     "execution_count": 81,
     "metadata": {},
     "output_type": "execute_result"
    }
   ],
   "source": [
    "oneKPlusVals"
   ]
  },
  {
   "cell_type": "code",
   "execution_count": 82,
   "metadata": {
    "collapsed": false
   },
   "outputs": [
    {
     "data": {
      "text/plain": [
       "35"
      ]
     },
     "execution_count": 82,
     "metadata": {},
     "output_type": "execute_result"
    }
   ],
   "source": [
    "len(oneKPlusVals)"
   ]
  },
  {
   "cell_type": "code",
   "execution_count": 83,
   "metadata": {
    "collapsed": false
   },
   "outputs": [
    {
     "data": {
      "text/plain": [
       "0.0847457627118644"
      ]
     },
     "execution_count": 83,
     "metadata": {},
     "output_type": "execute_result"
    }
   ],
   "source": [
    "len(oneKPlusVals) / len(df.crimeType.unique())"
   ]
  },
  {
   "cell_type": "code",
   "execution_count": null,
   "metadata": {
    "collapsed": true
   },
   "outputs": [],
   "source": []
  }
 ],
 "metadata": {
  "anaconda-cloud": {},
  "kernelspec": {
   "display_name": "Python [conda root]",
   "language": "python",
   "name": "conda-root-py"
  }
 },
 "nbformat": 4,
 "nbformat_minor": 1
}
